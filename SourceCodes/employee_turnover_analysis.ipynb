import pandas as pd
import numpy as np
from sklearn.preprocessing import StandardScaler, OneHotEncoder
from sklearn.compose import ColumnTransformer
from sklearn.pipeline import Pipeline
import seaborn as sns
import matplotlib.pyplot as plt
from scipy.stats import skew, kurtosis


# Load data
df = pd.read_csv('employee_data.csv')

# 1. Pahami Tujuan dan Kebutuhan
# Tujuan dalam fase discovery adalah untuk memahami data dengan cara yang memungkinkan analisis lebih mendalam dan pemodelan yang sesuai.


# 2. Cek Struktur dan Tipe Data
print(df.head())
print(df.dtypes)
print(df.shape)

# 3. Analisa Statistik Deskriptif
print(df.describe())
# Menghitung frekuensi untuk kolom Gender
gender_freq = df['Gender'].value_counts()

# Menghitung frekuensi untuk kolom Department
department_freq = df['Department'].value_counts()

# Menghitung frekuensi untuk kolom Position
position_freq = df['Position'].value_counts()

# Menghitung frekuensi untuk kolom Education
education_freq = df['Education'].value_counts()

# Menampilkan hasil
print("Frekuensi Gender:")
print(gender_freq)

print("\nFrekuensi Department:")
print(department_freq)

print("\nFrekuensi Position:")
print(position_freq)

print("\nFrekuensi Education:")
print(education_freq)

# Pilih kolom numerik
numerical_cols = df.select_dtypes(include=['int64', 'float64']).columns

for col in numerical_cols:
    plt.figure(figsize=(12, 6))

    # Histogram dan KDE
    plt.subplot(1, 2, 1)
    sns.histplot(df[col], kde=True)
    plt.title(f'Histogram and KDE of {col}')

    # Boxplot
    plt.subplot(1, 2, 2)
    sns.boxplot(x=df[col])
    plt.title(f'Boxplot of {col}')

    plt.show()

    # Skewness dan Kurtosis
    skewness = skew(df[col].dropna())
    kurt = kurtosis(df[col].dropna())
    print(f'{col} - Skewness: {skewness:.2f}, Kurtosis: {kurt:.2f}')


# 4. Deteksi Missing Values
print(df.isnull().sum())

# 5. Deteksi Duplikasi
print(df.duplicated().sum())
#df = df.drop_duplicates()



# 6. Analisis Outliers
import seaborn as sns
import matplotlib.pyplot as plt
from scipy.stats import zscore
from sklearn.preprocessing import StandardScaler
import numpy as np


# Kolom numerik di dataset
numerical_cols = ['Age', 'Satisfaction_Score', 'Tenure_Years', 'Salary', 'Hours_per_Week', 'Performance_Score']

print("Mengidentifikasi Outliers dengan Z-Scores")

# Menghitung Z-Score untuk setiap kolom numerik
z_scores = np.abs(zscore(df[numerical_cols]))

# Identifikasi outliers berdasarkan Z-Score > 3
outliers_z = (z_scores > 3)

# Menampilkan kolom yang memiliki outliers
outliers_summary_z = outliers_z.any(axis=0).values  # Mengubah ke numpy array boolean
outliers_columns_z = np.array(numerical_cols)[outliers_summary_z]  # Gunakan numpy array untuk indexing

print("Kolom yang memiliki outliers berdasarkan Z-Score:")
print(outliers_columns_z)

# Menampilkan jumlah outliers per kolom
for col in outliers_columns_z:
    print(f"{col} memiliki {outliers_z[:, numerical_cols.get_loc(col)].sum()} outliers berdasarkan Z-Score")
   

    
#ATAU...

print("Mengidentifikasi Outliers dengan IQR")

# Menghitung Q1 (Kuartil 1) dan Q3 (Kuartil 3)
Q1 = df[numerical_cols].quantile(0.25)
Q3 = df[numerical_cols].quantile(0.75)
IQR = Q3 - Q1

# Menentukan batas bawah dan batas atas
lower_bound = Q1 - 1.5 * IQR
upper_bound = Q3 + 1.5 * IQR

# Mengidentifikasi kolom yang memiliki outliers
outliers = ((df[numerical_cols] < lower_bound) | (df[numerical_cols] > upper_bound))

# Menampilkan kolom yang memiliki outliers
outliers_summary = outliers.any()
outliers_columns = outliers_summary[outliers_summary].index
print("Kolom yang memiliki outliers  berdasarkan IQR:")
print(outliers_columns)

# Menampilkan jumlah outliers per kolom
for col in outliers_columns:
    print(f"{col} memiliki {outliers[col].sum()} outliers")

#ATAU...

print("Mengidentifikasi Outliers dengan Visualisasi")
for col in numerical_cols:
    # Membuat boxplot untuk setiap kolom numerik
    plt.figure(figsize=(12, 6))
    sns.boxplot(df[col])
    plt.xticks(rotation=45)
    plt.title('Boxplot untuk mendeteksi Outliers')
    plt.show()


# 7. Pemetaan , Normalisasi & Standarisasi 
#Pemetaan Categorycal
categorized = pd.get_dummies(df, columns=['Gender', 'Department', 'Position'], drop_first=True)

#Standarisasi fitur Numeric

scaler = StandardScaler()
df[['Age', 'Salary', 'Satisfaction_Score', 'Hours_per_Week', 'Tenure_Years']] = scaler.fit_transform(
    df[['Age', 'Salary', 'Satisfaction_Score', 'Hours_per_Week', 'Tenure_Years']])


#Feature Engineering
df['Tenure_Bucket'] = pd.cut(df['Tenure_Years'], bins=[0, 2, 5, 10, 20], labels=['0-2', '3-5', '6-10', '10+'])


# 8. Analisis Korelasi

print("Mengidentifikasi Korelasi")

# Hitung matriks korelasi
df= df.loc[:, df.columns!='Employee_ID']
correlation_matrix = df.corr()

# Tampilkan matriks korelasi
print(correlation_matrix)

# Visualisasikan matriks korelasi dengan heatmap
plt.figure(figsize=(10, 8))
sns.heatmap(df.corr(), annot=True, cmap='coolwarm', fmt='.2f')
plt.title('Matriks Korelasi')
plt.show()



# 9. Visualisasi Data
# Visualisasi Data Analisis Univariate dan Bivariate

# Plot distribusi untuk kolom numerik


for col in numerical_cols:
    plt.figure(figsize=(8, 5))
    sns.histplot(df[col], kde=True)
    plt.title(f'Distribution of {col}')
    plt.show()

# Plot distribusi untuk kolom kategorikal
categorical_cols = ['Gender', 'Department', 'Position', 'Turnover']

for col in categorical_cols:
    plt.figure(figsize=(8, 5))
    sns.countplot(x=col, data=df)
    plt.title(f'Distribution of {col}')
    plt.xticks(rotation=45)
    plt.show()


# Analisis Bivariate (Dua Variabel)
# Boxplot: Age vs Turnover
plt.figure(figsize=(8, 5))
sns.boxplot(x='Turnover', y='Age', data=df)
plt.title('Age vs Turnover')
plt.show()


# Boxplot: Salary vs Turnover
plt.figure(figsize=(8, 5))
sns.boxplot(x='Turnover', y='Salary', data=df)
plt.title('Salary vs Turnover')
plt.show()

# Boxplot: Satisfaction_Score vs Turnover
plt.figure(figsize=(8, 5))
sns.boxplot(x='Turnover', y='Satisfaction_Score', data=df)
plt.title('Satisfaction_Score vs Turnover')
plt.show()

# Boxplot: Hours_per_Week vs Turnover
plt.figure(figsize=(8, 5))
sns.boxplot(x='Turnover', y='Hours_per_Week', data=df)
plt.title('Hours_per_Week vs Turnover')
plt.show()

# Boxplot: Tenure_Years vs Turnover
plt.figure(figsize=(8, 5))
sns.boxplot(x='Turnover', y='Tenure_Years', data=df)
plt.title('Tenure_Years vs Turnover')
plt.show()


#Barplot: Department vs Turnover
plt.figure(figsize=(8, 5))
sns.barplot(x='Department', y='Turnover', data=df, estimator=sum)
plt.title('Turnover by Department')
plt.xticks(rotation=45)
plt.show()

#Barplot: Position vs Turnover
plt.figure(figsize=(8, 5))
sns.barplot(x='Position', y='Turnover', data=df, estimator=sum)
plt.title('Turnover by Position')
plt.xticks(rotation=45)
plt.show()

#Barplot: Gender vs Turnover
plt.figure(figsize=(8, 5))
sns.barplot(x='Gender', y='Turnover', data=df, estimator=sum)
plt.title('Turnover by Gender')
plt.xticks(rotation=45)
plt.show()


# Scatter Plot: Age vs Salary   
plt.figure(figsize=(8, 5))
sns.scatterplot(x='Age', y='Salary', hue='Turnover', data=df)
plt.title('Age vs Salary with Turnover')
plt.show()




turnover_df = df[df['Turnover'] == 1]
no_turnover_df = df[df['Turnover'] == 0]

print('Turnover Resign')
print(turnover_df.describe())
print('Turnover Tetap')
print(no_turnover_df.describe())

# 10. Membuat Data Dictionary

# Dokumentasikan kolom secara manual atau dengan bantuan tool seperti pandas_profiling


